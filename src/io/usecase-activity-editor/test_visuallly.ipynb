{
 "cells": [
  {
   "cell_type": "markdown",
   "id": "237f75ac",
   "metadata": {},
   "source": [
    "FAS for SysMLv2: Model visualizer\n",
    "=="
   ]
  },
  {
   "cell_type": "markdown",
   "id": "21c43d84",
   "metadata": {},
   "source": [
    "Paste your SysMLv2 code from fas_frontend.odp here:"
   ]
  },
  {
   "cell_type": "code",
   "execution_count": null,
   "id": "f4fe084d",
   "metadata": {},
   "outputs": [],
   "source": [
    "<Paste SysMLv2 code here>"
   ]
  },
  {
   "cell_type": "markdown",
   "id": "cc97838a",
   "metadata": {},
   "source": [
    "FAS input: Use Case Activities\n",
    "=="
   ]
  },
  {
   "cell_type": "code",
   "execution_count": null,
   "id": "7e04e6fc",
   "metadata": {},
   "outputs": [],
   "source": [
    "%viz FunctionalModel::UseCaseActivities::OverallUseCase"
   ]
  },
  {
   "cell_type": "markdown",
   "id": "6cee550b",
   "metadata": {},
   "source": [
    "FAS input: Functional Groups\n",
    "=="
   ]
  },
  {
   "cell_type": "code",
   "execution_count": null,
   "id": "ba0275d1",
   "metadata": {},
   "outputs": [],
   "source": [
    "%viz  --style=SHOWIMPORTED FunctionalModel::UseCaseActivities::FunctionalGroups"
   ]
  },
  {
   "cell_type": "markdown",
   "id": "0e4071fe",
   "metadata": {},
   "source": [
    "FAS output: Functional Architecture\n",
    "=="
   ]
  },
  {
   "cell_type": "code",
   "execution_count": null,
   "id": "25e232c9",
   "metadata": {},
   "outputs": [],
   "source": [
    "%viz --view=interconnection  FunctionalModel::FunctionalSystem"
   ]
  },
  {
   "cell_type": "markdown",
   "id": "9e96c616",
   "metadata": {},
   "source": [
    "The full model\n",
    "=="
   ]
  },
  {
   "cell_type": "code",
   "execution_count": null,
   "id": "cc600d2d",
   "metadata": {},
   "outputs": [],
   "source": [
    "%viz --view=interconnection --style=SHOWIMPORTED FunctionalModel"
   ]
  },
  {
   "cell_type": "code",
   "execution_count": null,
   "id": "519b1658",
   "metadata": {},
   "outputs": [],
   "source": []
  }
 ],
 "metadata": {
  "kernelspec": {
   "display_name": "SysML",
   "language": "sysml",
   "name": "sysml"
  },
  "language_info": {
   "codemirror_mode": "sysml",
   "file_extension": ".sysml",
   "mimetype": "text/x-sysml",
   "name": "SysML",
   "pygments_lexer": "java",
   "version": "1.0.0"
  }
 },
 "nbformat": 4,
 "nbformat_minor": 5
}
