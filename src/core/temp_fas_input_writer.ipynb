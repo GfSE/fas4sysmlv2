{
 "cells": [
  {
   "cell_type": "markdown",
   "id": "237f75ac",
   "metadata": {},
   "source": [
    "FAS for SysMLv2: FAS Input to Repository Writer\n",
    "=="
   ]
  },
  {
   "cell_type": "code",
   "execution_count": null,
   "id": "f4fe084d",
   "metadata": {},
   "outputs": [],
   "source": [
    "<Paste SysMLv2 code here>"
   ]
  },
  {
   "cell_type": "code",
   "execution_count": null,
   "id": "7e04e6fc",
   "metadata": {},
   "outputs": [],
   "source": [
    "%publish PartUsages"
   ]
  }
 ],
 "metadata": {
  "kernelspec": {
   "display_name": "SysML",
   "language": "sysml",
   "name": "sysml"
  },
  "language_info": {
   "codemirror_mode": "sysml",
   "file_extension": ".sysml",
   "mimetype": "text/x-sysml",
   "name": "SysML",
   "pygments_lexer": "java",
   "version": "1.0.0"
  }
 },
 "nbformat": 4,
 "nbformat_minor": 5
}
